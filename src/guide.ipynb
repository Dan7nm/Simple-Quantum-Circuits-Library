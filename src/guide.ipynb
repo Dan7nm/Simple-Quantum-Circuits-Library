{
 "cells": [
  {
   "cell_type": "markdown",
   "id": "c2dd198c",
   "metadata": {},
   "source": [
    "# Simle Quantum Circuit Library Guide\n",
    "## Introduction:\n",
    "This jupyter notebook explains the fundamentals of using this quantum circuit library step by step. \n",
    "\n",
    "## Prerequisites:\n",
    "This library uses numpy. If numpy is not installed on your system you can easily install numpy by using the following command:"
   ]
  },
  {
   "cell_type": "markdown",
   "id": "48d75236",
   "metadata": {},
   "source": [
    "`pip install numpy`"
   ]
  },
  {
   "cell_type": "markdown",
   "id": "79091119",
   "metadata": {},
   "source": [
    "## Qubit class\n",
    "This class constructs a single qubit. The constructer of this class is given two complex numbers, alpha and beta, which are the amplitudes of the zero state and one state respectively. \n",
    "Let's construct a zero state ,a one state qubits and a qubit with equal amplitudes:"
   ]
  },
  {
   "cell_type": "code",
   "execution_count": 92,
   "id": "14264549",
   "metadata": {},
   "outputs": [],
   "source": [
    "from qubit import Qubit\n",
    "import numpy as np\n",
    "\n",
    "q0 = Qubit(alpha=1,beta=0)\n",
    "q1 = Qubit(alpha=0,beta=1)\n",
    "q2 = Qubit(alpha= 1/np.sqrt(2),beta= 1/np.sqrt(2))"
   ]
  },
  {
   "cell_type": "markdown",
   "id": "e7acdde0",
   "metadata": {},
   "source": [
    "Note that the amplitudes have to respect the normalization of the quantum state otherwise the class will throw an error.\n",
    "\n",
    "Now let's print the qubit in different forms to show the quantum state of the qubit:"
   ]
  },
  {
   "cell_type": "code",
   "execution_count": 93,
   "id": "346baa50",
   "metadata": {},
   "outputs": [
    {
     "name": "stdout",
     "output_type": "stream",
     "text": [
      "Qubit state is 1.00|0⟩\n",
      "Qubit state is 1.00|1⟩\n",
      "Qubit state is 0.71|0⟩ + 0.71|1⟩\n",
      "[1 0]\n",
      "[0 1]\n",
      "[0.70710678 0.70710678]\n"
     ]
    }
   ],
   "source": [
    "# Tensor form more readable:\n",
    "q0.print_qubit()\n",
    "q1.print_qubit()\n",
    "q2.print_qubit()\n",
    "# Vector form for debugging and backend of the library.\n",
    "q0.print_vector_form()\n",
    "q1.print_vector_form()\n",
    "q2.print_vector_form()"
   ]
  },
  {
   "cell_type": "markdown",
   "id": "1859af5e",
   "metadata": {},
   "source": [
    "We can change the amplitudes using the set amplitudes method. Remember to respect the normalization condition.\n"
   ]
  },
  {
   "cell_type": "code",
   "execution_count": 94,
   "id": "81641743",
   "metadata": {},
   "outputs": [],
   "source": [
    "q2.set_amplitudes(alpha=1,beta=0)"
   ]
  },
  {
   "cell_type": "markdown",
   "id": "58acb0c9",
   "metadata": {},
   "source": [
    "There are also getter function for the amplitudes and for the qubit vector."
   ]
  },
  {
   "cell_type": "code",
   "execution_count": 95,
   "id": "a210bc87",
   "metadata": {},
   "outputs": [
    {
     "name": "stdout",
     "output_type": "stream",
     "text": [
      "1\n",
      "0\n",
      "[1 0]\n"
     ]
    }
   ],
   "source": [
    "print(q2.get_alpha())\n",
    "print(q2.get_beta())\n",
    "print(q2.get_vector())"
   ]
  },
  {
   "cell_type": "markdown",
   "id": "759c1809",
   "metadata": {},
   "source": [
    "## MultiQubit Class\n",
    "This class let's you construct a tensor product of multiple qubits, used later as an input to the quantum circuit.\n",
    "Let's construct a MultiQubit object:"
   ]
  },
  {
   "cell_type": "code",
   "execution_count": 96,
   "id": "58a22ab2",
   "metadata": {},
   "outputs": [],
   "source": [
    "from multi_qubit import MultiQubit\n",
    "mt = MultiQubit()"
   ]
  },
  {
   "cell_type": "markdown",
   "id": "fa40ea54",
   "metadata": {},
   "source": [
    "Now let's add a few qubits to this tensor product:"
   ]
  },
  {
   "cell_type": "code",
   "execution_count": 97,
   "id": "d7f96623",
   "metadata": {},
   "outputs": [],
   "source": [
    "mt.add_qubit(q0)\n",
    "mt.add_qubit(q1)\n",
    "mt.add_qubit(q1)"
   ]
  },
  {
   "cell_type": "markdown",
   "id": "e640d317",
   "metadata": {},
   "source": [
    "Again we can print the tensor product of multiple qubits in tensor form and in vector form:\n",
    "\n"
   ]
  },
  {
   "cell_type": "code",
   "execution_count": 98,
   "id": "72873398",
   "metadata": {},
   "outputs": [
    {
     "name": "stdout",
     "output_type": "stream",
     "text": [
      "Tensor product in basis state form: |011⟩\n",
      "The vector of the tensor product is: [0 0 0 1 0 0 0 0]\n"
     ]
    }
   ],
   "source": [
    "mt.print_tensor_form()\n",
    "mt.print_vector_form()"
   ]
  },
  {
   "cell_type": "markdown",
   "id": "918f4052",
   "metadata": {},
   "source": [
    "This class also has getters for the tensor product vector and the number of qubits in the tensor product:"
   ]
  },
  {
   "cell_type": "code",
   "execution_count": 99,
   "id": "e4b0a2ab",
   "metadata": {},
   "outputs": [
    {
     "name": "stdout",
     "output_type": "stream",
     "text": [
      "3\n",
      "[0 0 0 1 0 0 0 0]\n"
     ]
    }
   ],
   "source": [
    "print(mt.get_number_of_qubits())\n",
    "print(mt.get_tensor_vector())"
   ]
  },
  {
   "cell_type": "markdown",
   "id": "ac97f7b8",
   "metadata": {},
   "source": [
    "## Quantum Circuit Class\n",
    "The QuantumCircuit class allows for building a quantum circuit. By adding and removing a quantum gates on every qubit at each vertical and horizontal axis. Every iteration from left to right is described by layers. Each layer is compromised of a tensor product of single qubit gates or controlled gates or swap gates.\n",
    "\n",
    "Let's construct a quantum circuit object with 3 qubits and add a NOT gate to the first qubit. \n",
    "The constructer recieves the number of qubits in the circuit. Then we use add_single_qubit_gate method which recieves target_qubit, layer_index, gate type and phase as arguments. Gate types are: I - identity gate, X - X Gate, Y - Y gate, Z - Z gate, H - Hadamard gate.\n",
    "\n",
    "Note that the target index and layer index are counted from 0."
   ]
  },
  {
   "cell_type": "code",
   "execution_count": 100,
   "id": "66cddea7",
   "metadata": {},
   "outputs": [],
   "source": [
    "from circuit import QuantumCircuit\n",
    "circuit = QuantumCircuit(number_of_qubits=3)\n",
    "circuit.add_single_qubit_gate(0,0,\"X\")"
   ]
  },
  {
   "cell_type": "markdown",
   "id": "0b6f839a",
   "metadata": {},
   "source": [
    "Now let's print the circuit to see the construction:"
   ]
  },
  {
   "cell_type": "code",
   "execution_count": 101,
   "id": "fcfc83e3",
   "metadata": {},
   "outputs": [
    {
     "name": "stdout",
     "output_type": "stream",
     "text": [
      "\n",
      "Circuit Diagram:\n",
      "q0: ─[X]──\n",
      "q1: ──────\n",
      "q2: ──────\n"
     ]
    }
   ],
   "source": [
    "circuit.print_circuit()"
   ]
  },
  {
   "cell_type": "markdown",
   "id": "68cdd564",
   "metadata": {},
   "source": [
    "The quantum circuit class initializes a two dimensional array. Every row of the array corresponds to each layer and every column to every gates in that layer. When we apply the circuit on an input or want to print the total unitary operation on the input state, the class computes all of the gate matrices into one unitary matrix.\n",
    "\n",
    "Let's print this circuit's final matrix:"
   ]
  },
  {
   "cell_type": "code",
   "execution_count": 102,
   "id": "b535a98a",
   "metadata": {},
   "outputs": [
    {
     "name": "stdout",
     "output_type": "stream",
     "text": [
      "[[0.+0.j 0.+0.j 0.+0.j 0.+0.j 1.+0.j 0.+0.j 0.+0.j 0.+0.j]\n",
      " [0.+0.j 0.+0.j 0.+0.j 0.+0.j 0.+0.j 1.+0.j 0.+0.j 0.+0.j]\n",
      " [0.+0.j 0.+0.j 0.+0.j 0.+0.j 0.+0.j 0.+0.j 1.+0.j 0.+0.j]\n",
      " [0.+0.j 0.+0.j 0.+0.j 0.+0.j 0.+0.j 0.+0.j 0.+0.j 1.+0.j]\n",
      " [1.+0.j 0.+0.j 0.+0.j 0.+0.j 0.+0.j 0.+0.j 0.+0.j 0.+0.j]\n",
      " [0.+0.j 1.+0.j 0.+0.j 0.+0.j 0.+0.j 0.+0.j 0.+0.j 0.+0.j]\n",
      " [0.+0.j 0.+0.j 1.+0.j 0.+0.j 0.+0.j 0.+0.j 0.+0.j 0.+0.j]\n",
      " [0.+0.j 0.+0.j 0.+0.j 1.+0.j 0.+0.j 0.+0.j 0.+0.j 0.+0.j]]\n"
     ]
    }
   ],
   "source": [
    "circuit.print_operator_matrix()"
   ]
  },
  {
   "cell_type": "markdown",
   "id": "f9632064",
   "metadata": {},
   "source": [
    "Now let's introduce how we can apply the circuit on an input state. Note that the input state which is a tensor product must have the same number of qubits as the circuit otherwise a ValueError will be raised."
   ]
  },
  {
   "cell_type": "code",
   "execution_count": 103,
   "id": "24475c19",
   "metadata": {},
   "outputs": [
    {
     "name": "stdout",
     "output_type": "stream",
     "text": [
      "Tensor product in basis state form: |111⟩\n"
     ]
    }
   ],
   "source": [
    "result = circuit.apply_circuit(mt)\n",
    "result.print_tensor_form()"
   ]
  },
  {
   "cell_type": "markdown",
   "id": "3ad82f89",
   "metadata": {},
   "source": [
    "We took the 011 state and got the 111 state which is what we expect to see with a NOT gate acting on a qubit.\n",
    "\n",
    "If we want to reset the circuit to the intial state we can use the following method:"
   ]
  },
  {
   "cell_type": "code",
   "execution_count": 104,
   "id": "2f696f12",
   "metadata": {},
   "outputs": [
    {
     "name": "stdout",
     "output_type": "stream",
     "text": [
      "\n",
      "Circuit Diagram:\n",
      "q0: ──────\n",
      "q1: ──────\n",
      "q2: ──────\n"
     ]
    }
   ],
   "source": [
    "circuit.reset_circuit()\n",
    "circuit.print_circuit()"
   ]
  },
  {
   "cell_type": "markdown",
   "id": "7640cc02",
   "metadata": {},
   "source": [
    "The circuit is now reset as expected.\n",
    "\n",
    "Now let's introduce controlled gates. To add a controlled gate, use the add_controlled_qubit_gate method and we apply on the input state:"
   ]
  },
  {
   "cell_type": "code",
   "execution_count": 105,
   "id": "64019f9f",
   "metadata": {},
   "outputs": [
    {
     "name": "stdout",
     "output_type": "stream",
     "text": [
      "\n",
      "Circuit Diagram:\n",
      "q0: ─[CX]─\n",
      "q1: ──●0──\n",
      "q2: ──────\n",
      "Tensor product in basis state form: |011⟩\n",
      "Tensor product in basis state form: |111⟩\n"
     ]
    }
   ],
   "source": [
    "circuit.add_controlled_qubit_gate(0, 0, 1, 'X')  # Add a controlled-X gate with control on qubit 0 and target qubit 1 in layer 0\n",
    "circuit.print_circuit()\n",
    "\n",
    "# The input state:\n",
    "mt.print_tensor_form()\n",
    "result = circuit.apply_circuit(mt)\n",
    "# Output state\n",
    "result.print_tensor_form()"
   ]
  },
  {
   "cell_type": "markdown",
   "id": "69256f01",
   "metadata": {},
   "source": [
    "The number after the circle shows the qubit index to which it's connected. This is used for situations where many control qubits are in the same layer for easier readability.\n",
    "\n",
    "Now let's introduce the swap gates which are constructed in a similar fashion such as the controlled qubit gate."
   ]
  },
  {
   "cell_type": "code",
   "execution_count": 106,
   "id": "027c51a0",
   "metadata": {},
   "outputs": [
    {
     "name": "stdout",
     "output_type": "stream",
     "text": [
      "\n",
      "Circuit Diagram:\n",
      "q0: ──⨉2──\n",
      "q1: ──────\n",
      "q2: ──⨉0──\n",
      "Tensor product in basis state form: |011⟩\n",
      "Tensor product in basis state form: |110⟩\n"
     ]
    }
   ],
   "source": [
    "circuit.reset_circuit()\n",
    "circuit.add_swap_gate(0,2,0)\n",
    "circuit.print_circuit()\n",
    "\n",
    "# The input state:\n",
    "mt.print_tensor_form()\n",
    "result = circuit.apply_circuit(mt)\n",
    "# Output state\n",
    "result.print_tensor_form()"
   ]
  },
  {
   "cell_type": "markdown",
   "id": "3fe12b4a",
   "metadata": {},
   "source": [
    "Note that when given indexes with an already gate assigned to that index, a ValueError will be raised.\n",
    "\n",
    "We can add layers to this quantum circuit and simillary also remove layers using these methods:"
   ]
  },
  {
   "cell_type": "code",
   "execution_count": 107,
   "id": "291b4d87",
   "metadata": {},
   "outputs": [
    {
     "name": "stdout",
     "output_type": "stream",
     "text": [
      "\n",
      "Circuit Diagram:\n",
      "q0: ──⨉2───[Y]──\n",
      "q1: ────────────\n",
      "q2: ──⨉0────────\n",
      "Tensor product in basis state form: |011⟩\n",
      "Tensor product in basis state form: 1j|111⟩\n"
     ]
    }
   ],
   "source": [
    "circuit.add_layer()\n",
    "circuit.add_single_qubit_gate(0,1,\"Y\")\n",
    "circuit.print_circuit()\n",
    "\n",
    "# The input state:\n",
    "mt.print_tensor_form()\n",
    "result = circuit.apply_circuit(mt)\n",
    "# Output state\n",
    "result.print_tensor_form()"
   ]
  },
  {
   "cell_type": "markdown",
   "id": "db10f989",
   "metadata": {},
   "source": [
    "And remove layers:\n"
   ]
  },
  {
   "cell_type": "code",
   "execution_count": 108,
   "id": "1cf5939c",
   "metadata": {},
   "outputs": [
    {
     "name": "stdout",
     "output_type": "stream",
     "text": [
      "\n",
      "Circuit Diagram:\n",
      "q0: ──⨉2──\n",
      "q1: ──────\n",
      "q2: ──⨉0──\n"
     ]
    }
   ],
   "source": [
    "circuit.remove_last_layer()\n",
    "circuit.print_circuit()"
   ]
  },
  {
   "cell_type": "markdown",
   "id": "48911264",
   "metadata": {},
   "source": [
    "To remove specific two qubit gate we can use the following method:"
   ]
  },
  {
   "cell_type": "code",
   "execution_count": 109,
   "id": "05e2d1a5",
   "metadata": {},
   "outputs": [
    {
     "name": "stdout",
     "output_type": "stream",
     "text": [
      "\n",
      "Circuit Diagram:\n",
      "q0: ──────\n",
      "q1: ──────\n",
      "q2: ──────\n"
     ]
    }
   ],
   "source": [
    "circuit.remove_two_qubit_gate(0,2,0)\n",
    "circuit.print_circuit()"
   ]
  },
  {
   "cell_type": "markdown",
   "id": "38c4d3f1",
   "metadata": {},
   "source": [
    "Now let's add a single qubit gate with a phase and show how to remove it:"
   ]
  },
  {
   "cell_type": "code",
   "execution_count": 110,
   "id": "6bf0caa5",
   "metadata": {},
   "outputs": [
    {
     "name": "stdout",
     "output_type": "stream",
     "text": [
      "\n",
      "Circuit Diagram:\n",
      "q0: ─[P]──\n",
      "q1: ──────\n",
      "q2: ──────\n",
      "\n",
      "Circuit Diagram:\n",
      "q0: ──────\n",
      "q1: ──────\n",
      "q2: ──────\n"
     ]
    }
   ],
   "source": [
    "circuit.add_single_qubit_gate(0,0,\"P\", np.pi)\n",
    "circuit.print_circuit()\n",
    "\n",
    "circuit.remove_single_qubit_gate(0,0)\n",
    "circuit.print_circuit()"
   ]
  },
  {
   "cell_type": "markdown",
   "id": "514053d1",
   "metadata": {},
   "source": [
    "Now for the crown jewel of this library the Quantum Fourier Transform. The library has built in preset of qft circuit by the number of qubits:"
   ]
  },
  {
   "cell_type": "code",
   "execution_count": 111,
   "id": "9f336bd8",
   "metadata": {},
   "outputs": [
    {
     "name": "stdout",
     "output_type": "stream",
     "text": [
      "\n",
      "Circuit Diagram:\n",
      "q0: ─[H]───[CP]──[CP]─────────────────────⨉2──\n",
      "q1: ────────●0─────────[H]───[CP]─────────────\n",
      "q2: ──────────────●0──────────●1───[H]────⨉0──\n",
      "Tensor product in basis state form: |011⟩\n",
      "Tensor product in basis state form: 0.3536j|000⟩ - (0.25+0.25j)|001⟩ + 0.3536|010⟩ - (0.25-0.25j)|011⟩ + 0.3536j|100⟩ - (0.25+0.25j)|101⟩ + 0.3536|110⟩ - (0.25-0.25j)|111⟩\n"
     ]
    }
   ],
   "source": [
    "circuit.load_qft_preset()\n",
    "circuit.print_circuit()\n",
    "\n",
    "# The input state:\n",
    "mt.print_tensor_form()\n",
    "result = circuit.apply_circuit(mt)\n",
    "# Output state\n",
    "result.print_tensor_form()"
   ]
  },
  {
   "cell_type": "markdown",
   "id": "e1eea5d3",
   "metadata": {},
   "source": [
    "The qft matrix we see is:"
   ]
  },
  {
   "cell_type": "code",
   "execution_count": 112,
   "id": "bb8b009d",
   "metadata": {},
   "outputs": [
    {
     "name": "stdout",
     "output_type": "stream",
     "text": [
      "[[ 0.        -3.53553391e-01j  0.        +3.53553391e-01j\n",
      "   0.        -3.53553391e-01j  0.        +3.53553391e-01j\n",
      "   0.        -3.53553391e-01j  0.        +3.53553391e-01j\n",
      "   0.        -3.53553391e-01j  0.        +3.53553391e-01j]\n",
      " [ 0.        -3.53553391e-01j -0.25      +2.50000000e-01j\n",
      "   0.35355339-2.16489014e-17j -0.25      -2.50000000e-01j\n",
      "   0.        +3.53553391e-01j  0.25      -2.50000000e-01j\n",
      "  -0.35355339+2.16489014e-17j  0.25      +2.50000000e-01j]\n",
      " [ 0.        -3.53553391e-01j -0.35355339+2.16489014e-17j\n",
      "   0.        +3.53553391e-01j  0.35355339-2.16489014e-17j\n",
      "   0.        -3.53553391e-01j -0.35355339+2.16489014e-17j\n",
      "   0.        +3.53553391e-01j  0.35355339-2.16489014e-17j]\n",
      " [ 0.        -3.53553391e-01j -0.25      -2.50000000e-01j\n",
      "  -0.35355339+2.16489014e-17j -0.25      +2.50000000e-01j\n",
      "   0.        +3.53553391e-01j  0.25      +2.50000000e-01j\n",
      "   0.35355339-2.16489014e-17j  0.25      -2.50000000e-01j]\n",
      " [ 0.        +3.53553391e-01j  0.        +3.53553391e-01j\n",
      "   0.        +3.53553391e-01j  0.        +3.53553391e-01j\n",
      "   0.        +3.53553391e-01j  0.        +3.53553391e-01j\n",
      "   0.        +3.53553391e-01j  0.        +3.53553391e-01j]\n",
      " [ 0.        +3.53553391e-01j -0.25      +2.50000000e-01j\n",
      "  -0.35355339+2.16489014e-17j -0.25      -2.50000000e-01j\n",
      "   0.        -3.53553391e-01j  0.25      -2.50000000e-01j\n",
      "   0.35355339-2.16489014e-17j  0.25      +2.50000000e-01j]\n",
      " [ 0.        +3.53553391e-01j -0.35355339+2.16489014e-17j\n",
      "   0.        -3.53553391e-01j  0.35355339-2.16489014e-17j\n",
      "   0.        +3.53553391e-01j -0.35355339+2.16489014e-17j\n",
      "   0.        -3.53553391e-01j  0.35355339-2.16489014e-17j]\n",
      " [ 0.        +3.53553391e-01j -0.25      -2.50000000e-01j\n",
      "   0.35355339-2.16489014e-17j -0.25      +2.50000000e-01j\n",
      "   0.        -3.53553391e-01j  0.25      +2.50000000e-01j\n",
      "  -0.35355339+2.16489014e-17j  0.25      -2.50000000e-01j]]\n"
     ]
    }
   ],
   "source": [
    "circuit.print_operator_matrix()"
   ]
  },
  {
   "cell_type": "markdown",
   "id": "2bec4427",
   "metadata": {},
   "source": [
    "This is unreadable because of floating inaccuracies and large matrix.\n",
    "In such a case the library implements tests that compare the output matrices of computed circuits with the matrices from theory. \n",
    "Using this formula for every element i,j in the expected matrix:\n",
    "\n",
    "`N = 2**num_qubits`\n",
    "\n",
    "`expected_qft_matrix[i,j] = (1/np.sqrt(N)) * np.exp(2j * np.pi * i * j / (N))`\n",
    "\n",
    "This function compares between the ouput matrices of this library and theory on 2 to 10 qubits as input and outputs the runtime:"
   ]
  },
  {
   "cell_type": "code",
   "execution_count": 113,
   "id": "88a76810",
   "metadata": {},
   "outputs": [
    {
     "name": "stdout",
     "output_type": "stream",
     "text": [
      "======== QFT Test runtime: 7.55 seconds =========\n",
      "=============== QFT tests passed! ===============\n"
     ]
    }
   ],
   "source": [
    "from circuit_test import test_qft_matrix_output\n",
    "\n",
    "test_qft_matrix_output()"
   ]
  },
  {
   "cell_type": "markdown",
   "id": "58b525d2",
   "metadata": {},
   "source": [
    "Lastly, here's an example of a qft circuit on a 5 qubit system, showing that the qft circuit can be loaded on any number of qubits:"
   ]
  },
  {
   "cell_type": "code",
   "execution_count": 114,
   "id": "716a4878",
   "metadata": {},
   "outputs": [
    {
     "name": "stdout",
     "output_type": "stream",
     "text": [
      "\n",
      "Circuit Diagram:\n",
      "q0: ─[H]───[CP]──[CP]──[CP]──[CP]───────────────────────────────────────────────────────────────⨉4──\n",
      "q1: ────────●0─────────────────────[H]───[CP]──[CP]──[CP]───────────────────────────────────────⨉3──\n",
      "q2: ──────────────●0──────────────────────●1───────────────[H]───[CP]──[CP]─────────────────────────\n",
      "q3: ────────────────────●0──────────────────────●1────────────────●2─────────[H]───[CP]─────────⨉1──\n",
      "q4: ──────────────────────────●0──────────────────────●1────────────────●2──────────●3───[H]────⨉0──\n",
      "Input State:\n",
      "Tensor product in basis state form: |10011⟩\n",
      "Output State:\n",
      "Tensor product in basis state form: 0.1768|00000⟩ - (0.147+0.09821j)|00001⟩ + (0.06765+0.1633j)|00010⟩ + (0.03449-0.1734j)|00011⟩ - (0.125-0.125j)|00100⟩ + (0.1734-0.03449j)|00101⟩ - (0.1633+0.06765j)|00110⟩ + (0.09821+0.147j)|00111⟩ - 0.1768j|01000⟩ - (0.09821-0.147j)|01001⟩ + (0.1633-0.06765j)|01010⟩ - (0.1734+0.03449j)|01011⟩ + (0.125+0.125j)|01100⟩ - (0.03449+0.1734j)|01101⟩ - (0.06765-0.1633j)|01110⟩ + (0.147-0.09821j)|01111⟩ - 0.1768|10000⟩ + (0.147+0.09821j)|10001⟩ - (0.06765+0.1633j)|10010⟩ - (0.03449-0.1734j)|10011⟩ + (0.125-0.125j)|10100⟩ - (0.1734-0.03449j)|10101⟩ + (0.1633+0.06765j)|10110⟩ - (0.09821+0.147j)|10111⟩ + 0.1768j|11000⟩ + (0.09821-0.147j)|11001⟩ - (0.1633-0.06765j)|11010⟩ + (0.1734+0.03449j)|11011⟩ - (0.125+0.125j)|11100⟩ + (0.03449+0.1734j)|11101⟩ + (0.06765-0.1633j)|11110⟩ - (0.147-0.09821j)|11111⟩\n"
     ]
    }
   ],
   "source": [
    "q0 = Qubit(1,0)\n",
    "q1 = Qubit(0,1)\n",
    "mt = MultiQubit()\n",
    "mt.add_qubit(q1)\n",
    "mt.add_qubit(q0)\n",
    "mt.add_qubit(q0)\n",
    "mt.add_qubit(q1)\n",
    "mt.add_qubit(q1)\n",
    "\n",
    "circuit = QuantumCircuit(number_of_qubits=5)\n",
    "circuit.load_qft_preset()\n",
    "circuit.print_circuit()\n",
    "print(\"Input State:\")\n",
    "mt.print_tensor_form()\n",
    "result = circuit.apply_circuit(mt)\n",
    "print(\"Output State:\")\n",
    "result.print_tensor_form()"
   ]
  }
 ],
 "metadata": {
  "kernelspec": {
   "display_name": "qft_sim_venv",
   "language": "python",
   "name": "python3"
  },
  "language_info": {
   "codemirror_mode": {
    "name": "ipython",
    "version": 3
   },
   "file_extension": ".py",
   "mimetype": "text/x-python",
   "name": "python",
   "nbconvert_exporter": "python",
   "pygments_lexer": "ipython3",
   "version": "3.12.6"
  }
 },
 "nbformat": 4,
 "nbformat_minor": 5
}
